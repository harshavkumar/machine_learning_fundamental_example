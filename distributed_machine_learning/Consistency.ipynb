{
  "nbformat": 4,
  "nbformat_minor": 0,
  "metadata": {
    "colab": {
      "provenance": []
    },
    "kernelspec": {
      "name": "python3",
      "display_name": "Python 3"
    },
    "language_info": {
      "name": "python"
    }
  },
  "cells": [
    {
      "cell_type": "code",
      "source": [
        "import threading\n",
        "import time\n",
        "\n",
        "class EventualConsistentModel:\n",
        "    def __init__(self):\n",
        "        self.parameters = {}  # Initialize an empty dictionary to store parameters\n",
        "        self.lock = threading.Lock()  # Create a lock for synchronization\n",
        "\n",
        "    def update_parameters(self, params):\n",
        "        with self.lock:  # Acquire the lock to ensure thread safety\n",
        "            self.parameters.update(params)  # Update the parameters with the given values\n",
        "            print(f\"Parameters updated to: {self.parameters}\")  # Print the updated parameters\n",
        "\n",
        "    def get_parameters(self):\n",
        "        with self.lock:  # Acquire the lock to ensure thread safety\n",
        "            print(f\"Parameters read: {self.parameters}\")  # Print the current parameters\n",
        "            return self.parameters  # Return the current parameters\n",
        "\n",
        "# Function to simulate asynchronous update propagation\n",
        "def simulate_async_propagation(model, params, delay, event):\n",
        "    time.sleep(delay)  # Simulate delay in propagation\n",
        "    model.update_parameters(params)  # Update the model parameters after the delay\n",
        "    event.set()  # Signal that the update is complete\n",
        "\n",
        "# Usage\n",
        "model = EventualConsistentModel()\n",
        "\n",
        "def worker1(event):\n",
        "    model.get_parameters()  # Print the initial empty parameters\n",
        "    # Start a thread to simulate asynchronous update with a delay of 2 seconds\n",
        "    threading.Thread(target=simulate_async_propagation, args=(model, {'weight': 0.5}, 2, event)).start()\n",
        "    #A new thread is created with the target function simulate_async_propagation.\n",
        "    #The arguments to be passed to the function are provided as a tuple: (model, {'weight': 0.5}, 2, event).\n",
        "\n",
        "def worker2(event):\n",
        "    time.sleep(1)  # Ensure this print happens before the update completes\n",
        "    model.get_parameters()  # Read the parameters before they are updated\n",
        "    event.wait()  # Wait until the update is complete\n",
        "    model.get_parameters()  # Read the parameters after the update\n",
        "\n",
        "# Create an event for synchronization\n",
        "update_event = threading.Event()\n",
        "\n",
        "# Create and start threads for workers\n",
        "threads = [threading.Thread(target=worker1, args=(update_event,)), threading.Thread(target=worker2, args=(update_event,))]\n",
        "#This line of code creates a list of two thread objects, each assigned to execute a specific worker function with the provided arguments.\n",
        "#threading.Thread(target=worker1, args=(update_event,))\n",
        "#threading.Thread: Creates a new thread object.\n",
        "#target=worker1: Specifies that the worker1 function will be the entry point of this thread.\n",
        "#args=(update_event,): Passes the argument update_event to the worker1 function. The comma in the tuple is necessary to indicate a single-element tuple.\n",
        "\n",
        "\n",
        "for t in threads:\n",
        "    t.start()\n",
        "\n",
        "for t in threads:\n",
        "    t.join()  # Wait for all threads to complete\n"
      ],
      "metadata": {
        "colab": {
          "base_uri": "https://localhost:8080/"
        },
        "id": "SxpmMZ5uDPVR",
        "outputId": "8e704c21-0240-48ec-ce65-757754e71771"
      },
      "execution_count": 17,
      "outputs": [
        {
          "output_type": "stream",
          "name": "stdout",
          "text": [
            "Parameters read: {}\n",
            "Parameters read: {}\n",
            "Parameters updated to: {'weight': 0.5}\n",
            "Parameters read: {'weight': 0.5}\n"
          ]
        }
      ]
    },
    {
      "cell_type": "code",
      "source": [
        "import threading  # Import threading module to handle multiple threads\n",
        "import time  # Import time module to simulate delays\n",
        "\n",
        "class EventualConsistentModel:\n",
        "    def __init__(self):\n",
        "        self.parameters = {}  # Initialize an empty dictionary to store parameters\n",
        "        self.lock = threading.Lock()  # Create a lock for synchronization\n",
        "\n",
        "    def update_parameters(self, params):\n",
        "        with self.lock:  # Acquire the lock to ensure thread safety\n",
        "            self.parameters.update(params)  # Update the parameters with the given values\n",
        "            print(f\"Parameters updated to: {self.parameters}\")  # Print the updated parameters\n",
        "\n",
        "    def get_parameters(self):\n",
        "        with self.lock:  # Acquire the lock to ensure thread safety\n",
        "            print(f\"Parameters read: {self.parameters}\")  # Print the current parameters\n",
        "            return self.parameters  # Return the current parameters\n",
        "\n",
        "# Function to simulate asynchronous update propagation\n",
        "def simulate_async_propagation(model, params, delay, event):\n",
        "    time.sleep(delay)  # Simulate delay in propagation\n",
        "    model.update_parameters(params)  # Update the model parameters after the delay\n",
        "    event.set()  # Signal that the update is complete\n",
        "\n",
        "# Usage\n",
        "model = EventualConsistentModel()  # Create an instance of the EventualConsistentModel\n",
        "\n",
        "def worker1(event):\n",
        "    model.get_parameters()  # Print the initial empty parameters\n",
        "    # Start a thread to simulate asynchronous update with a delay of 2 seconds\n",
        "    threading.Thread(target=simulate_async_propagation, args=(model, {'weight': 0.5}, 2, event)).start()\n",
        "\n",
        "def worker2(event):\n",
        "    time.sleep(1)  # Ensure this print happens before the update completes\n",
        "    model.get_parameters()  # Read the parameters before they are updated\n",
        "    event.wait()  # Wait until the update is complete\n",
        "    model.get_parameters()  # Read the parameters after the update\n",
        "\n",
        "# Create an event for synchronization\n",
        "update_event = threading.Event()\n",
        "\n",
        "# Create and start threads for workers\n",
        "threads = [threading.Thread(target=worker1, args=(update_event,)), threading.Thread(target=worker2, args=(update_event,))]\n",
        "\n",
        "for t in threads:\n",
        "    t.start()  # Start each thread\n",
        "\n",
        "for t in threads:\n",
        "    t.join()  # Wait for all threads to complete\n"
      ],
      "metadata": {
        "colab": {
          "base_uri": "https://localhost:8080/"
        },
        "id": "EhWGEtoUFMyq",
        "outputId": "e9596285-a05c-41ed-c520-3ffc6a316260"
      },
      "execution_count": 18,
      "outputs": [
        {
          "output_type": "stream",
          "name": "stdout",
          "text": [
            "Parameters read: {}\n",
            "Parameters read: {}\n",
            "Parameters updated to: {'weight': 0.5}\n",
            "Parameters read: {'weight': 0.5}\n"
          ]
        }
      ]
    },
    {
      "cell_type": "markdown",
      "source": [
        "Strong Consistency"
      ],
      "metadata": {
        "id": "AyZ5BTo3FeNv"
      }
    },
    {
      "cell_type": "code",
      "source": [
        "import threading\n",
        "\n",
        "class StrongConsistentModel:\n",
        "    def __init__(self):\n",
        "        self.parameters = {}  # Initialize an empty dictionary to store parameters\n",
        "        self.lock = threading.Lock()  # Create a lock for synchronization\n",
        "\n",
        "    def update_parameters(self, params):\n",
        "        with self.lock:  # Acquire the lock to ensure thread safety\n",
        "            self.parameters.update(params)  # Update the parameters with the given values\n",
        "            print(f\"Parameters updated to: {self.parameters}\")  # Print the updated parameters\n",
        "\n",
        "    def get_parameters(self):\n",
        "        with self.lock:  # Acquire the lock to ensure thread safety\n",
        "            print(f\"Parameters read: {self.parameters}\")  # Print the current parameters\n",
        "            return self.parameters  # Return the current parameters\n",
        "\n",
        "# Usage\n",
        "model = StrongConsistentModel()\n",
        "\n",
        "def writer():\n",
        "    model.update_parameters({'weight': 0.5})  # Update the parameters with new values\n",
        "\n",
        "def reader():\n",
        "    model.get_parameters()  # Read the current parameters\n",
        "\n",
        "# Create and start threads for writer and reader\n",
        "threads = [threading.Thread(target=writer), threading.Thread(target=reader)]\n",
        "\n",
        "for t in threads:\n",
        "    t.start()\n",
        "\n",
        "for t in threads:\n",
        "    t.join()  # Wait for all threads to complete\n"
      ],
      "metadata": {
        "colab": {
          "base_uri": "https://localhost:8080/"
        },
        "id": "GNhdsbZSFf0-",
        "outputId": "40cc81b9-bb40-47cf-bc4d-7cf10c838863"
      },
      "execution_count": 19,
      "outputs": [
        {
          "output_type": "stream",
          "name": "stdout",
          "text": [
            "Parameters updated to: {'weight': 0.5}\n",
            "Parameters read: {'weight': 0.5}\n"
          ]
        }
      ]
    },
    {
      "cell_type": "markdown",
      "source": [
        "Strong Consistency"
      ],
      "metadata": {
        "id": "WadOX-lQGQ9X"
      }
    },
    {
      "cell_type": "code",
      "source": [
        "import threading\n",
        "import time\n",
        "\n",
        "class StrongConsistentModel:\n",
        "    def __init__(self):\n",
        "        self.parameters = {}  # Initialize an empty dictionary to store parameters\n",
        "        self.lock = threading.Lock()  # Create a lock for synchronization\n",
        "\n",
        "    def update_parameters(self, params, thread_id):\n",
        "        with self.lock:  # Acquire the lock to ensure thread safety\n",
        "            self.parameters.update(params)  # Update the parameters with the given values\n",
        "            print(f\"[{time.strftime('%H:%M:%S')}] Thread {thread_id} updated parameters to: {self.parameters}\")  # Print the updated parameters\n",
        "\n",
        "    def get_parameters(self, thread_id):\n",
        "        with self.lock:  # Acquire the lock to ensure thread safety\n",
        "            print(f\"[{time.strftime('%H:%M:%S')}] Thread {thread_id} read parameters: {self.parameters}\")  # Print the current parameters\n",
        "            return self.parameters  # Return the current parameters\n",
        "\n",
        "# Usage\n",
        "model = StrongConsistentModel()\n",
        "\n",
        "# Barrier to synchronize threads\n",
        "barrier = threading.Barrier(6)  # 1 writer + 5 readers\n",
        "\n",
        "def writer(thread_id):\n",
        "    model.update_parameters({'weight': 0.5}, thread_id)  # Update the parameters with new values\n",
        "    barrier.wait()  # Wait for all threads to reach this point\n",
        "\n",
        "def reader(thread_id):\n",
        "    barrier.wait()  # Wait for all threads to reach this point\n",
        "    model.get_parameters(thread_id)  # Read the current parameters\n",
        "\n",
        "# Create and start threads for one writer and multiple readers\n",
        "threads = []\n",
        "threads.append(threading.Thread(target=writer, args=(1,)))\n",
        "\n",
        "for i in range(5):\n",
        "    t_reader = threading.Thread(target=reader, args=(i+2,))\n",
        "    threads.append(t_reader)\n",
        "\n",
        "for t in threads:\n",
        "    t.start()\n",
        "\n",
        "for t in threads:\n",
        "    t.join()  # Wait for all threads to complete\n"
      ],
      "metadata": {
        "colab": {
          "base_uri": "https://localhost:8080/"
        },
        "id": "xW_ozsc3GdAw",
        "outputId": "894b29c6-e580-4dd9-bcec-37cf40db2591"
      },
      "execution_count": 20,
      "outputs": [
        {
          "output_type": "stream",
          "name": "stdout",
          "text": [
            "[09:55:09] Thread 1 updated parameters to: {'weight': 0.5}\n",
            "[09:55:09] Thread 6 read parameters: {'weight': 0.5}\n",
            "[09:55:09] Thread 2 read parameters: {'weight': 0.5}\n",
            "[09:55:09] Thread 3 read parameters: {'weight': 0.5}\n",
            "[09:55:09] Thread 4 read parameters: {'weight': 0.5}\n",
            "[09:55:09] Thread 5 read parameters: {'weight': 0.5}\n"
          ]
        }
      ]
    },
    {
      "cell_type": "code",
      "source": [
        "import threading\n",
        "import time\n",
        "\n",
        "class StrongConsistentModel:\n",
        "    def __init__(self):\n",
        "        self.parameters = {}  # Initialize an empty dictionary to store parameters\n",
        "        self.lock = threading.Lock()  # Create a lock for synchronization\n",
        "        self.condition = threading.Condition(self.lock)  # Create a condition variable associated with the lock\n",
        "        self.update_count = 0  # Counter to keep track of the number of updates\n",
        "\n",
        "    def update_parameters(self, params, thread_id):\n",
        "        with self.condition:  # Acquire the lock associated with the condition variable\n",
        "            self.parameters.update(params)  # Update the parameters with the given values\n",
        "            self.update_count += 1  # Increment the update counter\n",
        "            print(f\"[{time.strftime('%H:%M:%S')}] Thread {thread_id} updated parameters to: {self.parameters}\")\n",
        "            self.condition.notify_all()  # Notify all waiting threads that the parameters have been updated\n",
        "\n",
        "    def get_parameters(self, thread_id):\n",
        "        with self.condition:  # Acquire the lock associated with the condition variable\n",
        "            print(f\"[{time.strftime('%H:%M:%S')}] Thread {thread_id} read parameters: {self.parameters}\")\n",
        "            return self.parameters  # Return the current parameters\n",
        "\n",
        "# Usage\n",
        "model = StrongConsistentModel()\n",
        "\n",
        "num_writers = 3\n",
        "num_readers = 5\n",
        "total_updates = num_writers  # Total number of updates to be performed\n",
        "\n",
        "def writer(thread_id):\n",
        "    # Each writer updates the parameters with its thread_id as the value\n",
        "    model.update_parameters({'weight': thread_id * 0.5}, thread_id)\n",
        "    with model.condition:\n",
        "        while model.update_count < total_updates:\n",
        "            model.condition.wait()  # Wait until all updates are done\n",
        "    with model.lock:\n",
        "        print(f\"[{time.strftime('%H:%M:%S')}] Thread {thread_id} final check: {model.parameters}\")\n",
        "\n",
        "def reader(thread_id):\n",
        "    with model.condition:\n",
        "        while model.update_count < total_updates:\n",
        "            model.condition.wait()  # Wait for each update\n",
        "            print(f\"[{time.strftime('%H:%M:%S')}] Thread {thread_id} sees parameters after update: {model.parameters}\")\n",
        "    with model.lock:\n",
        "        print(f\"[{time.strftime('%H:%M:%S')}] Thread {thread_id} final read: {model.parameters}\")\n",
        "\n",
        "# Create and start threads for multiple writers and readers\n",
        "threads = []\n",
        "\n",
        "# Add writer threads\n",
        "for i in range(num_writers):\n",
        "    t_writer = threading.Thread(target=writer, args=(i + 1,))\n",
        "    threads.append(t_writer)\n",
        "\n",
        "# Add reader threads\n",
        "for i in range(num_readers):\n",
        "    t_reader = threading.Thread(target=reader, args=(i + num_writers + 1,))\n",
        "    threads.append(t_reader)\n",
        "\n",
        "# Start all threads\n",
        "for t in threads:\n",
        "    t.start()\n",
        "\n",
        "# Wait for all threads to complete\n",
        "for t in threads:\n",
        "    t.join()\n"
      ],
      "metadata": {
        "colab": {
          "base_uri": "https://localhost:8080/"
        },
        "id": "SPe9q-DvHY7A",
        "outputId": "aa4b88f8-4e9d-4ab2-e580-ef1e9a02ecb3"
      },
      "execution_count": 21,
      "outputs": [
        {
          "output_type": "stream",
          "name": "stdout",
          "text": [
            "[09:56:34] Thread 1 updated parameters to: {'weight': 0.5}\n",
            "[09:56:34] Thread 2 updated parameters to: {'weight': 1.0}\n",
            "[09:56:34] Thread 3 updated parameters to: {'weight': 1.5}\n",
            "[09:56:34] Thread 3 final check: {'weight': 1.5}\n",
            "[09:56:34] Thread 2 final check: {'weight': 1.5}\n",
            "[09:56:34] Thread 1 final check: {'weight': 1.5}\n",
            "[09:56:34] Thread 4 final read: {'weight': 1.5}\n",
            "[09:56:34] Thread 5 final read: {'weight': 1.5}\n",
            "[09:56:34] Thread 6 final read: {'weight': 1.5}\n",
            "[09:56:34] Thread 7 final read: {'weight': 1.5}\n",
            "[09:56:34] Thread 8 final read: {'weight': 1.5}\n"
          ]
        }
      ]
    },
    {
      "cell_type": "code",
      "source": [
        "import threading\n",
        "\n",
        "class CausalConsistentModel:\n",
        "    def __init__(self):\n",
        "        self.parameters = {}  # Initialize an empty dictionary to store parameters\n",
        "        self.dependency_graph = {}  # Initialize an empty dictionary to store dependencies\n",
        "        self.lock = threading.Lock()  # Create a lock for synchronization\n",
        "\n",
        "    def update_parameters(self, params, thread_id, dependency=None):\n",
        "        with self.lock:  # Acquire the lock to ensure thread safety\n",
        "            # Check if the dependency is met\n",
        "            if dependency and not self.dependency_graph.get(dependency):\n",
        "                print(f\"[Thread {thread_id}] Dependency {dependency} not met, update postponed.\")\n",
        "                return\n",
        "            # Update parameters and dependency graph\n",
        "            self.parameters.update(params)\n",
        "            self.dependency_graph.update(params)\n",
        "            print(f\"[Thread {thread_id}] Parameters updated to: {self.parameters}\")\n",
        "\n",
        "    def get_parameters(self, thread_id):\n",
        "        with self.lock:  # Acquire the lock to ensure thread safety\n",
        "            print(f\"[Thread {thread_id}] Parameters read: {self.parameters}\")\n",
        "            return self.parameters  # Return the current parameters\n",
        "\n",
        "# Usage\n",
        "model = CausalConsistentModel()  # Create an instance of the CausalConsistentModel\n",
        "\n",
        "def writer1():\n",
        "    model.update_parameters({'x': 'a'}, thread_id=1)  # Update parameter x to 'a'\n",
        "\n",
        "def writer2():\n",
        "    model.update_parameters({'y': 'b'}, thread_id=2, dependency='x')  # Update parameter y to 'b' with a dependency on x\n",
        "\n",
        "def writer3():\n",
        "    model.update_parameters({'z': 'c'}, thread_id=3, dependency='y')  # Update parameter z to 'c' with a dependency on y\n",
        "\n",
        "def reader(thread_id):\n",
        "    model.get_parameters(thread_id)  # Read the current parameters\n",
        "    print(f\"[Thread {thread_id}] read parameters: {model.parameters}\")  # Print the parameters read by this thread\n",
        "\n",
        "# Create and start threads for writers and readers\n",
        "threads = [\n",
        "    threading.Thread(target=writer1),  # Create a thread for writer1\n",
        "    threading.Thread(target=writer2),  # Create a thread for writer2\n",
        "    threading.Thread(target=writer3),  # Create a thread for writer3\n",
        "    threading.Thread(target=reader, args=(4,)),  # Create a thread for reader1 with thread_id 4\n",
        "    threading.Thread(target=reader, args=(5,))   # Create a thread for reader2 with thread_id 5\n",
        "]\n",
        "\n",
        "for t in threads:\n",
        "    t.start()  # Start each thread\n",
        "\n",
        "for t in threads:\n",
        "    t.join()  # Wait for all threads to complete\n"
      ],
      "metadata": {
        "colab": {
          "base_uri": "https://localhost:8080/"
        },
        "id": "ZmJwaB3HH0HL",
        "outputId": "dae6600d-79e4-4656-f96e-a6335d2e74dc"
      },
      "execution_count": 16,
      "outputs": [
        {
          "output_type": "stream",
          "name": "stdout",
          "text": [
            "[Thread 1] Parameters updated to: {'x': 'a'}\n",
            "[Thread 2] Parameters updated to: {'x': 'a', 'y': 'b'}\n",
            "[Thread 3] Parameters updated to: {'x': 'a', 'y': 'b', 'z': 'c'}\n",
            "[Thread 4] Parameters read: {'x': 'a', 'y': 'b', 'z': 'c'}\n",
            "[Thread 4] read parameters: {'x': 'a', 'y': 'b', 'z': 'c'}\n",
            "[Thread 5] Parameters read: {'x': 'a', 'y': 'b', 'z': 'c'}\n",
            "[Thread 5] read parameters: {'x': 'a', 'y': 'b', 'z': 'c'}\n"
          ]
        }
      ]
    }
  ]
}