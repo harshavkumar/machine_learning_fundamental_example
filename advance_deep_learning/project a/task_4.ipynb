{
  "cells": [
    {
      "cell_type": "markdown",
      "metadata": {
        "id": "-WtFchdyhtxl"
      },
      "source": [
        "# **Problem Statement**\n",
        "\n",
        "Task 4. Train a deep convolutional autoencoder with MNIST dataset and using extracted features train a MLP classifier with 7 outputs (7 segment LED display) that are representative of 10 digits. For example images of \"0\" will be classified as\n",
        "\n",
        "   1\n",
        "\n",
        "1    1\n",
        "\n",
        "   1    \n",
        "\n",
        "1     1\n",
        "\n",
        "   1\n",
        "\n",
        "7 will be \"classified\" as\n",
        "\n",
        "   1\n",
        "\n",
        "0    1\n",
        "\n",
        "   0    \n",
        "\n",
        "0    1\n",
        "\n",
        "   0\n",
        "\n",
        "\n",
        "\n",
        "\n",
        "\n",
        "Generate the confusion matrix for the corresponding test dataset.\n",
        "\n"
      ]
    },
    {
      "cell_type": "markdown",
      "metadata": {
        "id": "BT_9aUO6h_rP"
      },
      "source": [
        "# **Code as follows**:"
      ]
    },
    {
      "cell_type": "markdown",
      "metadata": {
        "id": "hqv_geo-g41V"
      },
      "source": [
        "# Requirements Installation:\n"
      ]
    },
    {
      "cell_type": "code",
      "execution_count": 1,
      "metadata": {
        "colab": {
          "base_uri": "https://localhost:8080/"
        },
        "id": "nkQzSllDgzzz",
        "outputId": "cbe94082-0870-469c-9b08-bf85fa5b14c9"
      },
      "outputs": [
        {
          "name": "stdout",
          "output_type": "stream",
          "text": [
            "Requirement already satisfied: numpy in /usr/local/lib/python3.10/dist-packages (1.25.2)\n",
            "Requirement already satisfied: tensorflow in /usr/local/lib/python3.10/dist-packages (2.15.0)\n",
            "Requirement already satisfied: absl-py>=1.0.0 in /usr/local/lib/python3.10/dist-packages (from tensorflow) (1.4.0)\n",
            "Requirement already satisfied: astunparse>=1.6.0 in /usr/local/lib/python3.10/dist-packages (from tensorflow) (1.6.3)\n",
            "Requirement already satisfied: flatbuffers>=23.5.26 in /usr/local/lib/python3.10/dist-packages (from tensorflow) (24.3.25)\n",
            "Requirement already satisfied: gast!=0.5.0,!=0.5.1,!=0.5.2,>=0.2.1 in /usr/local/lib/python3.10/dist-packages (from tensorflow) (0.6.0)\n",
            "Requirement already satisfied: google-pasta>=0.1.1 in /usr/local/lib/python3.10/dist-packages (from tensorflow) (0.2.0)\n",
            "Requirement already satisfied: h5py>=2.9.0 in /usr/local/lib/python3.10/dist-packages (from tensorflow) (3.9.0)\n",
            "Requirement already satisfied: libclang>=13.0.0 in /usr/local/lib/python3.10/dist-packages (from tensorflow) (18.1.1)\n",
            "Requirement already satisfied: ml-dtypes~=0.2.0 in /usr/local/lib/python3.10/dist-packages (from tensorflow) (0.2.0)\n",
            "Requirement already satisfied: numpy<2.0.0,>=1.23.5 in /usr/local/lib/python3.10/dist-packages (from tensorflow) (1.25.2)\n",
            "Requirement already satisfied: opt-einsum>=2.3.2 in /usr/local/lib/python3.10/dist-packages (from tensorflow) (3.3.0)\n",
            "Requirement already satisfied: packaging in /usr/local/lib/python3.10/dist-packages (from tensorflow) (24.1)\n",
            "Requirement already satisfied: protobuf!=4.21.0,!=4.21.1,!=4.21.2,!=4.21.3,!=4.21.4,!=4.21.5,<5.0.0dev,>=3.20.3 in /usr/local/lib/python3.10/dist-packages (from tensorflow) (3.20.3)\n",
            "Requirement already satisfied: setuptools in /usr/local/lib/python3.10/dist-packages (from tensorflow) (67.7.2)\n",
            "Requirement already satisfied: six>=1.12.0 in /usr/local/lib/python3.10/dist-packages (from tensorflow) (1.16.0)\n",
            "Requirement already satisfied: termcolor>=1.1.0 in /usr/local/lib/python3.10/dist-packages (from tensorflow) (2.4.0)\n",
            "Requirement already satisfied: typing-extensions>=3.6.6 in /usr/local/lib/python3.10/dist-packages (from tensorflow) (4.12.2)\n",
            "Requirement already satisfied: wrapt<1.15,>=1.11.0 in /usr/local/lib/python3.10/dist-packages (from tensorflow) (1.14.1)\n",
            "Requirement already satisfied: tensorflow-io-gcs-filesystem>=0.23.1 in /usr/local/lib/python3.10/dist-packages (from tensorflow) (0.37.1)\n",
            "Requirement already satisfied: grpcio<2.0,>=1.24.3 in /usr/local/lib/python3.10/dist-packages (from tensorflow) (1.64.1)\n",
            "Requirement already satisfied: tensorboard<2.16,>=2.15 in /usr/local/lib/python3.10/dist-packages (from tensorflow) (2.15.2)\n",
            "Requirement already satisfied: tensorflow-estimator<2.16,>=2.15.0 in /usr/local/lib/python3.10/dist-packages (from tensorflow) (2.15.0)\n",
            "Requirement already satisfied: keras<2.16,>=2.15.0 in /usr/local/lib/python3.10/dist-packages (from tensorflow) (2.15.0)\n",
            "Requirement already satisfied: wheel<1.0,>=0.23.0 in /usr/local/lib/python3.10/dist-packages (from astunparse>=1.6.0->tensorflow) (0.43.0)\n",
            "Requirement already satisfied: google-auth<3,>=1.6.3 in /usr/local/lib/python3.10/dist-packages (from tensorboard<2.16,>=2.15->tensorflow) (2.27.0)\n",
            "Requirement already satisfied: google-auth-oauthlib<2,>=0.5 in /usr/local/lib/python3.10/dist-packages (from tensorboard<2.16,>=2.15->tensorflow) (1.2.1)\n",
            "Requirement already satisfied: markdown>=2.6.8 in /usr/local/lib/python3.10/dist-packages (from tensorboard<2.16,>=2.15->tensorflow) (3.6)\n",
            "Requirement already satisfied: requests<3,>=2.21.0 in /usr/local/lib/python3.10/dist-packages (from tensorboard<2.16,>=2.15->tensorflow) (2.31.0)\n",
            "Requirement already satisfied: tensorboard-data-server<0.8.0,>=0.7.0 in /usr/local/lib/python3.10/dist-packages (from tensorboard<2.16,>=2.15->tensorflow) (0.7.2)\n",
            "Requirement already satisfied: werkzeug>=1.0.1 in /usr/local/lib/python3.10/dist-packages (from tensorboard<2.16,>=2.15->tensorflow) (3.0.3)\n",
            "Requirement already satisfied: cachetools<6.0,>=2.0.0 in /usr/local/lib/python3.10/dist-packages (from google-auth<3,>=1.6.3->tensorboard<2.16,>=2.15->tensorflow) (5.3.3)\n",
            "Requirement already satisfied: pyasn1-modules>=0.2.1 in /usr/local/lib/python3.10/dist-packages (from google-auth<3,>=1.6.3->tensorboard<2.16,>=2.15->tensorflow) (0.4.0)\n",
            "Requirement already satisfied: rsa<5,>=3.1.4 in /usr/local/lib/python3.10/dist-packages (from google-auth<3,>=1.6.3->tensorboard<2.16,>=2.15->tensorflow) (4.9)\n",
            "Requirement already satisfied: requests-oauthlib>=0.7.0 in /usr/local/lib/python3.10/dist-packages (from google-auth-oauthlib<2,>=0.5->tensorboard<2.16,>=2.15->tensorflow) (1.3.1)\n",
            "Requirement already satisfied: charset-normalizer<4,>=2 in /usr/local/lib/python3.10/dist-packages (from requests<3,>=2.21.0->tensorboard<2.16,>=2.15->tensorflow) (3.3.2)\n",
            "Requirement already satisfied: idna<4,>=2.5 in /usr/local/lib/python3.10/dist-packages (from requests<3,>=2.21.0->tensorboard<2.16,>=2.15->tensorflow) (3.7)\n",
            "Requirement already satisfied: urllib3<3,>=1.21.1 in /usr/local/lib/python3.10/dist-packages (from requests<3,>=2.21.0->tensorboard<2.16,>=2.15->tensorflow) (2.0.7)\n",
            "Requirement already satisfied: certifi>=2017.4.17 in /usr/local/lib/python3.10/dist-packages (from requests<3,>=2.21.0->tensorboard<2.16,>=2.15->tensorflow) (2024.7.4)\n",
            "Requirement already satisfied: MarkupSafe>=2.1.1 in /usr/local/lib/python3.10/dist-packages (from werkzeug>=1.0.1->tensorboard<2.16,>=2.15->tensorflow) (2.1.5)\n",
            "Requirement already satisfied: pyasn1<0.7.0,>=0.4.6 in /usr/local/lib/python3.10/dist-packages (from pyasn1-modules>=0.2.1->google-auth<3,>=1.6.3->tensorboard<2.16,>=2.15->tensorflow) (0.6.0)\n",
            "Requirement already satisfied: oauthlib>=3.0.0 in /usr/local/lib/python3.10/dist-packages (from requests-oauthlib>=0.7.0->google-auth-oauthlib<2,>=0.5->tensorboard<2.16,>=2.15->tensorflow) (3.2.2)\n",
            "Requirement already satisfied: scikit-learn in /usr/local/lib/python3.10/dist-packages (1.2.2)\n",
            "Requirement already satisfied: numpy>=1.17.3 in /usr/local/lib/python3.10/dist-packages (from scikit-learn) (1.25.2)\n",
            "Requirement already satisfied: scipy>=1.3.2 in /usr/local/lib/python3.10/dist-packages (from scikit-learn) (1.11.4)\n",
            "Requirement already satisfied: joblib>=1.1.1 in /usr/local/lib/python3.10/dist-packages (from scikit-learn) (1.4.2)\n",
            "Requirement already satisfied: threadpoolctl>=2.0.0 in /usr/local/lib/python3.10/dist-packages (from scikit-learn) (3.5.0)\n",
            "Requirement already satisfied: matplotlib in /usr/local/lib/python3.10/dist-packages (3.7.1)\n",
            "Requirement already satisfied: contourpy>=1.0.1 in /usr/local/lib/python3.10/dist-packages (from matplotlib) (1.2.1)\n",
            "Requirement already satisfied: cycler>=0.10 in /usr/local/lib/python3.10/dist-packages (from matplotlib) (0.12.1)\n",
            "Requirement already satisfied: fonttools>=4.22.0 in /usr/local/lib/python3.10/dist-packages (from matplotlib) (4.53.1)\n",
            "Requirement already satisfied: kiwisolver>=1.0.1 in /usr/local/lib/python3.10/dist-packages (from matplotlib) (1.4.5)\n",
            "Requirement already satisfied: numpy>=1.20 in /usr/local/lib/python3.10/dist-packages (from matplotlib) (1.25.2)\n",
            "Requirement already satisfied: packaging>=20.0 in /usr/local/lib/python3.10/dist-packages (from matplotlib) (24.1)\n",
            "Requirement already satisfied: pillow>=6.2.0 in /usr/local/lib/python3.10/dist-packages (from matplotlib) (9.4.0)\n",
            "Requirement already satisfied: pyparsing>=2.3.1 in /usr/local/lib/python3.10/dist-packages (from matplotlib) (3.1.2)\n",
            "Requirement already satisfied: python-dateutil>=2.7 in /usr/local/lib/python3.10/dist-packages (from matplotlib) (2.8.2)\n",
            "Requirement already satisfied: six>=1.5 in /usr/local/lib/python3.10/dist-packages (from python-dateutil>=2.7->matplotlib) (1.16.0)\n",
            "Requirement already satisfied: seaborn in /usr/local/lib/python3.10/dist-packages (0.13.1)\n",
            "Requirement already satisfied: numpy!=1.24.0,>=1.20 in /usr/local/lib/python3.10/dist-packages (from seaborn) (1.25.2)\n",
            "Requirement already satisfied: pandas>=1.2 in /usr/local/lib/python3.10/dist-packages (from seaborn) (2.0.3)\n",
            "Requirement already satisfied: matplotlib!=3.6.1,>=3.4 in /usr/local/lib/python3.10/dist-packages (from seaborn) (3.7.1)\n",
            "Requirement already satisfied: contourpy>=1.0.1 in /usr/local/lib/python3.10/dist-packages (from matplotlib!=3.6.1,>=3.4->seaborn) (1.2.1)\n",
            "Requirement already satisfied: cycler>=0.10 in /usr/local/lib/python3.10/dist-packages (from matplotlib!=3.6.1,>=3.4->seaborn) (0.12.1)\n",
            "Requirement already satisfied: fonttools>=4.22.0 in /usr/local/lib/python3.10/dist-packages (from matplotlib!=3.6.1,>=3.4->seaborn) (4.53.1)\n",
            "Requirement already satisfied: kiwisolver>=1.0.1 in /usr/local/lib/python3.10/dist-packages (from matplotlib!=3.6.1,>=3.4->seaborn) (1.4.5)\n",
            "Requirement already satisfied: packaging>=20.0 in /usr/local/lib/python3.10/dist-packages (from matplotlib!=3.6.1,>=3.4->seaborn) (24.1)\n",
            "Requirement already satisfied: pillow>=6.2.0 in /usr/local/lib/python3.10/dist-packages (from matplotlib!=3.6.1,>=3.4->seaborn) (9.4.0)\n",
            "Requirement already satisfied: pyparsing>=2.3.1 in /usr/local/lib/python3.10/dist-packages (from matplotlib!=3.6.1,>=3.4->seaborn) (3.1.2)\n",
            "Requirement already satisfied: python-dateutil>=2.7 in /usr/local/lib/python3.10/dist-packages (from matplotlib!=3.6.1,>=3.4->seaborn) (2.8.2)\n",
            "Requirement already satisfied: pytz>=2020.1 in /usr/local/lib/python3.10/dist-packages (from pandas>=1.2->seaborn) (2023.4)\n",
            "Requirement already satisfied: tzdata>=2022.1 in /usr/local/lib/python3.10/dist-packages (from pandas>=1.2->seaborn) (2024.1)\n",
            "Requirement already satisfied: six>=1.5 in /usr/local/lib/python3.10/dist-packages (from python-dateutil>=2.7->matplotlib!=3.6.1,>=3.4->seaborn) (1.16.0)\n"
          ]
        }
      ],
      "source": [
        "!pip install numpy\n",
        "!pip install tensorflow\n",
        "!pip install scikit-learn\n",
        "!pip install matplotlib\n",
        "!pip install seaborn"
      ]
    },
    {
      "cell_type": "markdown",
      "metadata": {
        "id": "0V4pMLTVg_rT"
      },
      "source": [
        "# Importing Neccessary libraries"
      ]
    },
    {
      "cell_type": "code",
      "execution_count": 2,
      "metadata": {
        "id": "14RXcekJhFg5"
      },
      "outputs": [],
      "source": [
        "import numpy as np\n",
        "import tensorflow as tf\n",
        "from tensorflow.keras import layers, models\n",
        "from tensorflow.keras.datasets import mnist\n",
        "from sklearn.model_selection import train_test_split\n",
        "from sklearn.metrics import confusion_matrix\n",
        "import matplotlib.pyplot as plt\n",
        "import seaborn as sns"
      ]
    },
    {
      "cell_type": "markdown",
      "metadata": {
        "id": "ZiqUbAVThJBP"
      },
      "source": [
        "# Load and preprocess MNIST dataset"
      ]
    },
    {
      "cell_type": "code",
      "execution_count": 3,
      "metadata": {
        "id": "oDOpyAzChKtn"
      },
      "outputs": [],
      "source": [
        "def load_and_preprocess_data():\n",
        "    (x_train, y_train), (x_test, y_test) = mnist.load_data()\n",
        "    x_train = x_train.astype('float32') / 255.\n",
        "    x_test = x_test.astype('float32') / 255.\n",
        "    x_train = np.expand_dims(x_train, axis=-1)\n",
        "    x_test = np.expand_dims(x_test, axis=-1)\n",
        "    return x_train, y_train, x_test, y_test"
      ]
    },
    {
      "cell_type": "markdown",
      "metadata": {
        "id": "6aZzPuT9hMCs"
      },
      "source": [
        "# Define deep convolutional autoencoder"
      ]
    },
    {
      "cell_type": "code",
      "execution_count": 4,
      "metadata": {
        "id": "EUFSt5U9hPBn"
      },
      "outputs": [],
      "source": [
        "def build_autoencoder():\n",
        "    input_img = layers.Input(shape=(28, 28, 1))\n",
        "\n",
        "    # Encoder\n",
        "    x = layers.Conv2D(32, (3, 3), activation='relu', padding='same')(input_img)\n",
        "    x = layers.MaxPooling2D((2, 2), padding='same')(x)\n",
        "    x = layers.Conv2D(16, (3, 3), activation='relu', padding='same')(x)\n",
        "    x = layers.MaxPooling2D((2, 2), padding='same')(x)\n",
        "    x = layers.Conv2D(8, (3, 3), activation='relu', padding='same')(x)\n",
        "    encoded = layers.MaxPooling2D((2, 2), padding='same')(x)\n",
        "\n",
        "    # Decoder\n",
        "    x = layers.Conv2D(8, (3, 3), activation='relu', padding='same')(encoded)\n",
        "    x = layers.UpSampling2D((2, 2))(x)\n",
        "    x = layers.Conv2D(16, (3, 3), activation='relu', padding='same')(x)\n",
        "    x = layers.UpSampling2D((2, 2))(x)\n",
        "    x = layers.Conv2D(32, (3, 3), activation='relu', padding='same')(x)\n",
        "    x = layers.UpSampling2D((2, 2))(x)\n",
        "\n",
        "    # Ensure the output shape matches input shape\n",
        "    decoded = layers.Conv2D(1, (3, 3), activation='sigmoid', padding='same')(x)\n",
        "    decoded = layers.Cropping2D(cropping=((2, 2), (2, 2)))(decoded)\n",
        "\n",
        "    autoencoder = models.Model(input_img, decoded)\n",
        "    encoder = models.Model(input_img, encoded)\n",
        "\n",
        "    return autoencoder, encoder\n"
      ]
    },
    {
      "cell_type": "markdown",
      "metadata": {
        "id": "T3jbHaoRhSCy"
      },
      "source": [
        "# Define MLP classifier"
      ]
    },
    {
      "cell_type": "code",
      "execution_count": 5,
      "metadata": {
        "id": "oCrYDHdKhUsU"
      },
      "outputs": [],
      "source": [
        "def build_mlp_classifier(input_shape):\n",
        "    model = models.Sequential([\n",
        "        layers.Flatten(input_shape=input_shape),\n",
        "        layers.Dense(128, activation='relu'),\n",
        "        layers.Dense(64, activation='relu'),\n",
        "        layers.Dense(7, activation='sigmoid')\n",
        "    ])\n",
        "    return model"
      ]
    },
    {
      "cell_type": "markdown",
      "metadata": {
        "id": "e-nFzqWGhX8R"
      },
      "source": [
        "# Convert digits to 7-segment representation"
      ]
    },
    {
      "cell_type": "code",
      "execution_count": 6,
      "metadata": {
        "id": "xCQIjjyqhYoK"
      },
      "outputs": [],
      "source": [
        "def digit_to_seven_segment(digit):\n",
        "    segments = {\n",
        "        0: [1, 1, 1, 0, 1, 1, 1],\n",
        "        1: [0, 0, 1, 0, 0, 1, 0],\n",
        "        2: [1, 0, 1, 1, 1, 0, 1],\n",
        "        3: [1, 0, 1, 1, 0, 1, 1],\n",
        "        4: [0, 1, 1, 1, 0, 1, 0],\n",
        "        5: [1, 1, 0, 1, 0, 1, 1],\n",
        "        6: [1, 1, 0, 1, 1, 1, 1],\n",
        "        7: [1, 0, 1, 0, 0, 1, 0],\n",
        "        8: [1, 1, 1, 1, 1, 1, 1],\n",
        "        9: [1, 1, 1, 1, 0, 1, 1]\n",
        "    }\n",
        "    return segments[digit]"
      ]
    },
    {
      "cell_type": "markdown",
      "metadata": {
        "id": "1sukTNhChcDf"
      },
      "source": [
        "# Train the models and evaluate"
      ]
    },
    {
      "cell_type": "code",
      "execution_count": 10,
      "metadata": {
        "id": "vLSTrQGEhcpP"
      },
      "outputs": [],
      "source": [
        "def train_and_evaluate():\n",
        "    # Load and preprocess data\n",
        "    print(f\"\\n Loading and preprocessing MNIST dataset\")\n",
        "    x_train, y_train, x_test, y_test = load_and_preprocess_data()\n",
        "    print(f\"\\n Completed Loading and preprocessing of MNIST dataset\")\n",
        "\n",
        "    print(f\"\\nTraining Autoencoder:\")\n",
        "\n",
        "    # Build and train autoencoder\n",
        "    autoencoder, encoder = build_autoencoder()\n",
        "    autoencoder.compile(optimizer='adam', loss='binary_crossentropy')\n",
        "    autoencoder.fit(x_train, x_train, epochs=10, batch_size=128, validation_split=0.2, verbose=1)\n",
        "\n",
        "    # Extract features using trained encoder\n",
        "    train_features = encoder.predict(x_train)\n",
        "    test_features = encoder.predict(x_test)\n",
        "\n",
        "    # Prepare 7-segment labels\n",
        "    y_train_7seg = np.array([digit_to_seven_segment(digit) for digit in y_train])\n",
        "    y_test_7seg = np.array([digit_to_seven_segment(digit) for digit in y_test])\n",
        "\n",
        "    # Build and train MLP classifier\n",
        "    print(f\"\\nTraining MLP classifier:\")\n",
        "    mlp = build_mlp_classifier(train_features.shape[1:])\n",
        "    mlp.compile(optimizer='adam', loss='binary_crossentropy', metrics=['accuracy'])\n",
        "    mlp.fit(train_features, y_train_7seg, epochs=10, batch_size=128, validation_split=0.2, verbose=1)\n",
        "\n",
        "    # Evaluate the model\n",
        "    y_pred = mlp.predict(test_features)\n",
        "    y_pred_binary = (y_pred > 0.5).astype(int)\n",
        "\n",
        "    # Generate confusion matrix\n",
        "    cm = confusion_matrix(y_test, np.argmax(y_pred_binary, axis=1))\n",
        "\n",
        "    return cm"
      ]
    },
    {
      "cell_type": "markdown",
      "metadata": {
        "id": "BZhk5hwbhit3"
      },
      "source": [
        "# Plot confusion matrix"
      ]
    },
    {
      "cell_type": "code",
      "execution_count": 8,
      "metadata": {
        "id": "bAwNEFgWhhTw"
      },
      "outputs": [],
      "source": [
        "def plot_confusion_matrix(cm):\n",
        "    plt.figure(figsize=(10, 8))\n",
        "    sns.heatmap(cm, annot=True, fmt='d', cmap='Blues')\n",
        "    plt.title('Confusion Matrix')\n",
        "    plt.xlabel('Predicted Label')\n",
        "    plt.ylabel('True Label')\n",
        "    plt.show()"
      ]
    },
    {
      "cell_type": "markdown",
      "metadata": {
        "id": "2hTtx-g0hqYX"
      },
      "source": [
        "# Main execution"
      ]
    },
    {
      "cell_type": "code",
      "execution_count": 11,
      "metadata": {
        "colab": {
          "base_uri": "https://localhost:8080/",
          "height": 1000
        },
        "id": "WGErFwOTgeq1",
        "outputId": "46aaafc6-f319-472b-db95-2939d686a50f"
      },
      "outputs": [
        {
          "name": "stdout",
          "output_type": "stream",
          "text": [
            "\n",
            " Loading and preprocessing MNIST dataset\n",
            "\n",
            " Completed Loading and preprocessing of MNIST dataset\n",
            "\n",
            "Training Autoencoder:\n",
            "Epoch 1/10\n",
            "375/375 [==============================] - 100s 263ms/step - loss: 0.2152 - val_loss: 0.1510\n",
            "Epoch 2/10\n",
            "375/375 [==============================] - 98s 261ms/step - loss: 0.1397 - val_loss: 0.1328\n",
            "Epoch 3/10\n",
            "375/375 [==============================] - 92s 246ms/step - loss: 0.1268 - val_loss: 0.1235\n",
            "Epoch 4/10\n",
            "375/375 [==============================] - 92s 246ms/step - loss: 0.1199 - val_loss: 0.1178\n",
            "Epoch 5/10\n",
            "375/375 [==============================] - 92s 244ms/step - loss: 0.1148 - val_loss: 0.1138\n",
            "Epoch 6/10\n",
            "375/375 [==============================] - 92s 246ms/step - loss: 0.1113 - val_loss: 0.1118\n",
            "Epoch 7/10\n",
            "375/375 [==============================] - 93s 247ms/step - loss: 0.1088 - val_loss: 0.1084\n",
            "Epoch 8/10\n",
            "375/375 [==============================] - 93s 249ms/step - loss: 0.1068 - val_loss: 0.1068\n",
            "Epoch 9/10\n",
            "375/375 [==============================] - 98s 261ms/step - loss: 0.1052 - val_loss: 0.1057\n",
            "Epoch 10/10\n",
            "375/375 [==============================] - 93s 247ms/step - loss: 0.1038 - val_loss: 0.1045\n",
            "1875/1875 [==============================] - 14s 8ms/step\n",
            "313/313 [==============================] - 3s 8ms/step\n",
            "\n",
            "Training MLP classifier:\n",
            "Epoch 1/10\n",
            "375/375 [==============================] - 2s 3ms/step - loss: 0.2275 - accuracy: 0.2038 - val_loss: 0.1147 - val_accuracy: 0.2236\n",
            "Epoch 2/10\n",
            "375/375 [==============================] - 1s 3ms/step - loss: 0.1052 - accuracy: 0.2237 - val_loss: 0.0819 - val_accuracy: 0.1805\n",
            "Epoch 3/10\n",
            "375/375 [==============================] - 1s 3ms/step - loss: 0.0796 - accuracy: 0.2142 - val_loss: 0.0636 - val_accuracy: 0.2870\n",
            "Epoch 4/10\n",
            "375/375 [==============================] - 1s 3ms/step - loss: 0.0675 - accuracy: 0.2027 - val_loss: 0.0592 - val_accuracy: 0.1137\n",
            "Epoch 5/10\n",
            "375/375 [==============================] - 1s 3ms/step - loss: 0.0613 - accuracy: 0.2168 - val_loss: 0.0624 - val_accuracy: 0.2448\n",
            "Epoch 6/10\n",
            "375/375 [==============================] - 2s 5ms/step - loss: 0.0562 - accuracy: 0.2191 - val_loss: 0.0508 - val_accuracy: 0.2605\n",
            "Epoch 7/10\n",
            "375/375 [==============================] - 2s 5ms/step - loss: 0.0502 - accuracy: 0.2269 - val_loss: 0.0478 - val_accuracy: 0.1186\n",
            "Epoch 8/10\n",
            "375/375 [==============================] - 2s 4ms/step - loss: 0.0483 - accuracy: 0.2133 - val_loss: 0.0423 - val_accuracy: 0.1951\n",
            "Epoch 9/10\n",
            "375/375 [==============================] - 2s 5ms/step - loss: 0.0440 - accuracy: 0.2182 - val_loss: 0.0414 - val_accuracy: 0.1297\n",
            "Epoch 10/10\n",
            "375/375 [==============================] - 1s 3ms/step - loss: 0.0447 - accuracy: 0.2218 - val_loss: 0.0395 - val_accuracy: 0.1645\n",
            "313/313 [==============================] - 1s 1ms/step\n"
          ]
        },
        {
          "data": {
            "image/png": "[encoded data removed]",
            "text/plain": [
              "<Figure size 1000x800 with 2 Axes>"
            ]
          },
          "metadata": {},
          "output_type": "display_data"
        }
      ],
      "source": [
        "# Set random seed for reproducibility\n",
        "np.random.seed(42)\n",
        "tf.random.set_seed(42)\n",
        "\n",
        "if __name__ == \"__main__\":\n",
        "    cm = train_and_evaluate()\n",
        "    plot_confusion_matrix(cm)\n"
      ]
    },
    {
      "cell_type": "markdown",
      "metadata": {
        "id": "CWyu0MjCuiDK"
      },
      "source": [
        "# Observations:"
      ]
    },
    {
      "cell_type": "markdown",
      "metadata": {
        "id": "vdonJyDJumOW"
      },
      "source": [
        "* Model Performance:\n",
        "  * Auto Encoder:\n",
        "    * Final Training Loss: 0.1038\n",
        "    * Final Validation Loss: 0.1045\n",
        "  * MLP Classifier:\n",
        "    * Final training accuracy: 22.18%\n",
        "    * Final validation accuracy: 16.45%\n",
        "    * The low accuracies suggest model is struggling to learn 7-segment representation effectively.\n",
        "* Training Progress:\n",
        "  * The model shows minimal improvement over 10 epochs, with accuracy increasing only slightly from 20.38% to 22.18%.\n",
        "  * The validation accuracy fluctuates, ending lower than it started (29.31% to 13.04%), indicating potential overfitting.\n",
        "* Confusion Matrix Analysis:\n",
        "  * The model performs well for digit 0, correctly classifying 980 instances.\n",
        "  * Digits 1 and 2 also show relatively good performance (1119 and 1026 correct classifications respectively).\n",
        "  * There's significant confusion between certain digit pairs:\n",
        "    * 1026 instances of digit 2 are misclassified as 0\n",
        "    * 1010 instances of digit 3 are misclassified as 0\n",
        "    * 944 instances of digit 4 are misclassified as 1\n",
        "  * Digits 5, 6, and 7 are almost entirely misclassified, mostly 0 or 1.\n",
        "* Overall Model Effectiveness:\n",
        "  * The model shows poor generalization, with strong bias towards classifying digits as 0 or 1.\n",
        "  * The 7-segment representation task appears to be challenging for this model architecture.\n",
        "* Areas for Improvement:\n",
        "  * The model architecture or training approach may need significant refinement to better learn the 7-segment representations.\n",
        "  * Addressing class imbalance in predictions could potentially improve overall performance\n",
        "  * Training for more epochs."
      ]
    },
    {
      "cell_type": "code",
      "execution_count": 9,
      "metadata": {
        "id": "Ou92KT-bnX71"
      },
      "outputs": [],
      "source": []
    }
  ],
  "metadata": {
    "colab": {
      "provenance": []
    },
    "kernelspec": {
      "display_name": "Python 3",
      "name": "python3"
    },
    "language_info": {
      "name": "python"
    }
  },
  "nbformat": 4,
  "nbformat_minor": 0
}
