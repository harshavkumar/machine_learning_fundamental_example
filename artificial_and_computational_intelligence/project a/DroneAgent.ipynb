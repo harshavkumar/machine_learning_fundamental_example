{
 "cells": [
  {
   "cell_type": "markdown",
   "metadata": {
    "id": "Fxb1aE9zF7sK"
   },
   "source": [
    "## Problem solving by Uninformed & Informed Search"
   ]
  },
  {
   "cell_type": "markdown",
   "metadata": {
    "id": "pt5ygv_zF7sL"
   },
   "source": [
    "Things to follow\n",
    "1.\tUse appropriate data structures to represent the graph and the path using python libraries\n",
    "2.\tProvide proper documentation\n",
    "3.\tFind the path and print it"
   ]
  },
  {
   "cell_type": "markdown",
   "metadata": {
    "id": "wZfop5ElF7sL"
   },
   "source": [
    "\n",
    "Coding begins here"
   ]
  },
  {
   "cell_type": "markdown",
   "metadata": {
    "id": "IL0QDMy3F7sL"
   },
   "source": [
    "### 1.\tDefine the environment in the following block\n",
    "\n",
    "The start point, destination, vegetation and other obstacles, radar interference as a 2D grid (list of list)\n",
    "Current drone position and prob of enemy and radar detection in each cell of the grid\n"
   ]
  },
  {
   "cell_type": "markdown",
   "metadata": {
    "id": "RYwJPNLIF7sM"
   },
   "source": [
    "List the PEAS decription of the problem here in this markdown block\n",
    "\n",
    "-1. PEAS:\n",
    "-* Defining minimal possible requirements our system should have to solve the problem in given setting*\n",
    "\n",
    "Enviornment - The start point, destination, vegetation and other obstacles, radar interference as a 2D grid\n",
    "Performamce measure - Number of cells it takes to get to destination undetected. (Better measure: Route length/ straight line dist. bw start and dest.)\n",
    "Sensors - Satelite signal detectors, Radar detector, user signal detector, visual/sonic input to identify vegetation laid no fly zones\n",
    "Actuators - Motor control to allow drone movement, turning and altitude change."
   ]
  },
  {
   "cell_type": "markdown",
   "metadata": {
    "id": "XJ3cHp1IF7sM"
   },
   "source": [
    "Design the agent as PSA Agent(Problem Solving Agent)\n",
    "Clear Initial data structures to define the graph and variable declarations is expected\n",
    "IMPORTATANT: Write distinct code block as below"
   ]
  },
  {
   "cell_type": "markdown",
   "metadata": {
    "collapsed": false
   },
   "source": [
    "Data Structures\n",
    "\n",
    "Priority Queue for open list\n",
    "List for closed list\n",
    "numpy array for grid: each cell with heuristic function values"
   ]
  },
  {
   "cell_type": "code",
   "execution_count": 12,
   "metadata": {
    "ExecuteTime": {
     "end_time": "2023-08-06T20:02:10.395478700Z",
     "start_time": "2023-08-06T20:02:10.375081100Z"
    },
    "id": "osp61RsLF7sN"
   },
   "outputs": [],
   "source": [
    "#Code Block : Set Initial State (Must handle dynamic inputs)\n",
    "import random\n",
    "import numpy as np\n",
    "\n",
    "\n",
    "def set_initial_state(all_initial_states, k, seed_=100):\n",
    "    # Selecting k random states from available set of initial states\n",
    "    random.seed(seed_)\n",
    "    initial_state_list = random.sample(all_initial_states, k)\n",
    "    return initial_state_list"
   ]
  },
  {
   "cell_type": "code",
   "execution_count": 13,
   "metadata": {
    "ExecuteTime": {
     "end_time": "2023-08-06T20:02:10.566945600Z",
     "start_time": "2023-08-06T20:02:10.553800600Z"
    },
    "id": "XODwoWZ0F7sO"
   },
   "outputs": [],
   "source": [
    "#Code Block : Set the matrix for transition & cost (as relevant for the given problem)\n",
    "\n",
    "# For simplicity, we do not vary the size of the grid. It's a 10 x 10 square matrix and from any point we can go to all 8 neighbours as long as index in [0,9] and it is not a red cell\n",
    "def h(PoD, PoM): return (1 + PoD) * (1 + PoM) if PoD != -1 else np.inf\n",
    "# evaluation function as defined in problem statement\n"
   ]
  },
  {
   "cell_type": "code",
   "execution_count": 14,
   "metadata": {
    "ExecuteTime": {
     "end_time": "2023-08-06T20:02:10.760814500Z",
     "start_time": "2023-08-06T20:02:10.741239800Z"
    },
    "id": "ro24Gaj7F7sO"
   },
   "outputs": [],
   "source": [
    "#Code Block : Write function to design the Transition Model/Successor function. Ideally this would be called while search algorithms are implemented\n",
    "def get_successor_states(curr_state, transition_matrix):\n",
    "    # curr_state should be of the form (row_index, col_index)\n",
    "    r, c = curr_state\n",
    "    possible_successors = [[r+1,c], [r-1,c], [r,c+1], [r, c-1], [r+1, c+1], [r-1,c-1], [r+1,c-1], [r-1,c+1]]\n",
    "    pre_veg_successors = [i for i in possible_successors if (0<=i[0]<10) and (0<=i[1]<10)]       # removing out of grid elements\n",
    "    successor_state_list = [ i for i in pre_veg_successors if transition_matrix[i[0]][i[1]] != np.inf]       # removing red cells\n",
    "    return successor_state_list\n",
    "\n",
    "# get_successor_states((6,0),transition_matrix), get_successor_states((4,2),transition_matrix)\n"
   ]
  },
  {
   "cell_type": "code",
   "execution_count": 15,
   "metadata": {
    "ExecuteTime": {
     "end_time": "2023-08-06T20:02:10.959469500Z",
     "start_time": "2023-08-06T20:02:10.931095900Z"
    },
    "id": "HIVPhrRWF7sO"
   },
   "outputs": [],
   "source": [
    "#Code block : Write fucntion to handle goal test (Must handle dynamic inputs). Ideally this would be called while search algorithms are implemented\n",
    "def check_goal_state(curr_state_list, goal): return True if goal in curr_state_list else False"
   ]
  },
  {
   "cell_type": "markdown",
   "metadata": {
    "collapsed": false
   },
   "source": [
    "### 2.Definition of Algorithm 1 (Local Beam search, k=3) Use the above-mentioned algorithm and implement in PYTHON"
   ]
  },
  {
   "cell_type": "code",
   "execution_count": 16,
   "metadata": {
    "ExecuteTime": {
     "end_time": "2023-08-06T20:02:11.305223500Z",
     "start_time": "2023-08-06T20:02:11.289460200Z"
    },
    "id": "zD_EPCHWF7sO"
   },
   "outputs": [],
   "source": [
    "# #Code Block : Function for algorithm 1 implementation\n",
    "def make_key(state): return str(state[0])+str(state[1])\n",
    "\n",
    "\n",
    "def local_beam_search(start_list, goal, k, transition_matrix, seed=100):\n",
    "\n",
    "    inital_states_list = set_initial_state(start_list, k, seed)     # get k random states from given start states\n",
    "    print('inital states randomised with given k=', k, ' : ', inital_states_list)\n",
    "    print('goal_state: ', goal)\n",
    "\n",
    "    goal_flag = check_goal_state(inital_states_list, goal)      # check if goal is in one of these start states\n",
    "    path= dict(zip([make_key(i) for i in inital_states_list], [[make_key(i),0] for i in inital_states_list])) if not goal_flag \\\n",
    "        else {make_key(goal): [make_key(goal), 0]}\n",
    "\n",
    "    open_list = [[i, transition_matrix[i[0]][i[1]]] for i in inital_states_list]\n",
    "    open_list = sorted(open_list, key=lambda x: x[1])       # sort priority queue\n",
    "    closed_list = []\n",
    "\n",
    "    while (open_list != []) and (goal_flag == False):\n",
    "        curr_node = open_list[0][0]     # pop the first element of open list, put it in closed list and expand\n",
    "        open_list = open_list[1:]\n",
    "        closed_list.append(curr_node)\n",
    "\n",
    "        successsor_state_list  = get_successor_states(curr_node, transition_matrix)\n",
    "\n",
    "        for node in successsor_state_list:\n",
    "            state_key , n_key = make_key(curr_node), make_key(node)\n",
    "\n",
    "            # 3 cases are possible - either the node is totally unexplored - add in open list\n",
    "            if (node not in open_list) and (node not in closed_list):\n",
    "                open_list.append([node, transition_matrix[node[0]][node[1]]])       #append it in open list\n",
    "                # path[n_key] = [state_key, path[state_key][1] + 1]\n",
    "                if not n_key in path.keys():\n",
    "                    path[n_key] = [state_key, path[state_key][1]+1]   # if the node is being reached first time\n",
    "                else:\n",
    "                    existing_cost, new_cost = path[n_key][1], path[state_key][1] + 1\n",
    "                    path[n_key] = [state_key, new_cost] if new_cost <= existing_cost else path[n_key]\n",
    "            # if its present in open list but not in closed list\n",
    "            elif (node in open_list) and (node not in closed_list):\n",
    "                existing_cost, new_cost = path[n_key][1], path[state_key][1]+1\n",
    "                print(existing_cost, new_cost )\n",
    "                path[n_key] = [state_key, new_cost] if new_cost<=existing_cost else path[n_key]      # incase this new path gives lower cost, change parents\n",
    "            # nodes cant both be in open and closed list at the same time\n",
    "            elif (node in open_list) and (node in closed_list):\n",
    "                print('node n in open and closed list', node)   # Sanity check\n",
    "                print(open_list)\n",
    "                print(closed_list)\n",
    "                raise AssertionError\n",
    "\n",
    "        open_list = sorted(open_list, key=lambda x: x[1])\n",
    "        goal_flag = check_goal_state([x[0] for x in  open_list], goal)\n",
    "        open_list = open_list[:k]\n",
    "\n",
    "    return goal_flag, path, inital_states_list\n"
   ]
  },
  {
   "cell_type": "markdown",
   "metadata": {
    "id": "LEV2XHccF7sP"
   },
   "source": [
    "## 3. DYNAMIC INPUT\n",
    "IMPORTANT : Dynamic Input must be got in this section. Display the possible states to choose from:\n",
    "This is applicable for all the relevent problems as mentioned in the question."
   ]
  },
  {
   "cell_type": "code",
   "execution_count": 17,
   "metadata": {
    "ExecuteTime": {
     "end_time": "2023-08-06T20:02:13.967248500Z",
     "start_time": "2023-08-06T20:02:11.770866800Z"
    },
    "id": "Q5t1Lc-wF7sP"
   },
   "outputs": [
    {
     "name": "stdout",
     "output_type": "stream",
     "text": [
      "[[1, 0], [0, 0], [0, 1], [0, 2], [2, 0]] [9, 6] 3\n",
      "<class 'list'> <class 'list'>\n"
     ]
    }
   ],
   "source": [
    "#Code Block : Function & call to get inputs (start/end state)\n",
    "\n",
    "# [todo] imp: Give random incorrect input to use default input from question\n",
    "\n",
    "# 00,01,02,10,20\n",
    "# 9_6\n",
    "def get_user_inputs():\n",
    "    # to get user input on start state and end state\n",
    "\n",
    "    try:\n",
    "        start_list_ = input(\"Enter the list of start states (current location) format comma seperated rowindexcolindex eg 01,02,11: \").split(',')\n",
    "        start_list = [[int(s[0]), int(s[1])] for s in start_list_]\n",
    "        goal = list(map(int, input(\"Enter the goal state (destination) format rowindex_colindex eh=g 9_6: \").split('_')))\n",
    "        k = int(input(\"Parameter k of the local beam search: \"))\n",
    "    except:\n",
    "        start_list = [[1, 0], [0, 0], [0, 1], [0,2], [2,0]]\n",
    "        goal = [9, 6]\n",
    "        k = 3\n",
    "\n",
    "    return start_list, goal, k\n",
    "\n",
    "# matrix example as provided in question\n",
    "transition_matrix = np.array([\n",
    "    [h(0, 0), h(0, 0), h(0, 0), h(-1, -1), h(-1, -1), h(-1, -1), h(0.5, 0.5), h(0.5, 0.5), h(-1, -1), h(-1, -1)],\n",
    "    [h(0, 0), h(0, 0), h(0, 0), h(0.5, 0.5), h(0.5, 0.5), h(-1, -1), h(0.5, 0.5), h(0.5, 0.5), h(-1, -1),  h(0.5, 0.5)],\n",
    "    [h(0, 0), h(0, 0), h(0, 0), h(0.5, 0.5), h(0.5, 0.5), h(0.5, 0.5), h(-1, -1), h(0.5, 0.5), h(0.5, 0.5), h(0.5, 0.5)],\n",
    "    [h(0.2, 0), h(0.2, 0.1), h(0.2, 0.1), h(0.5, 0.5), h(0.5, 0.5), h(0.5, 0.5), h(-1, -1), h(0.5, 0.5), h(0.5, 0.5), h(0.5, 0.5)],\n",
    "    [h(0.2, 0.9), h(0.2, 1), h(0.2, 0.1), h(0.3, 0.9), h(0.3, 0.9), h(0.2, 0.1), h(-1, -1), h(-1, -1), h(-1, -1), h(0.5, 0.5)],\n",
    "    [h(0.2, 0.9), h(-1, -1), h(0.2, 0.1), h(-1, -1), h(0.3, 0.9), h(0.2, 0.1), h(0.2, 0.1), h(0.2, 0.9), h(0.2, 0.9), h(0.2, 0.1)],\n",
    "    [h(0.2, 0.9), h(-1, -1), h(0.2, 0.1), h(-1, -1), h(0.2, 0.1), h(0.3, 0.9), h(0.2, 0.1), h(0.2, 0.1), h(0.2, 0.1), h(0.2, 0.1)],\n",
    "    [h(0.2, 0.9), h(-1, -1), h(0.2, 0.1), h(-1, -1), h(0.2, 0.1), h(-1, -1), h(-1, -1), h(-1, -1), h(0.2, 0.1), h(0.2, 0.1)],\n",
    "    [h(-1, -1), h(0.05, 0.05), h(0.05, 0.05), h(-1, -1), h(0.8, 0.9), h(0.8, 0.9), h(0.05, 0.05), h(0.05, 0.05), h(0.2, 0.1), h(0.2, 0.1)],\n",
    "    [h(0.2, 0.9), h(0.8, 1), h(0.05, 0.05), h(0.8, 0.9), h(0.8, 0.9), h(-1, -1), h(0, 0), h(0.05, 0.05), h(0.2, 0.1), h(-1, -1)]\n",
    "])\n",
    "\n",
    "\n",
    "start_list, goal, k = get_user_inputs()\n",
    "print(start_list, goal, k)\n",
    "print(type(start_list), type(goal))"
   ]
  },
  {
   "cell_type": "code",
   "execution_count": 18,
   "metadata": {
    "ExecuteTime": {
     "end_time": "2023-08-06T20:02:14.340938900Z",
     "start_time": "2023-08-06T20:02:14.325482300Z"
    },
    "collapsed": false
   },
   "outputs": [
    {
     "data": {
      "text/plain": [
       "array([[1.    , 1.    , 1.    ,    inf,    inf,    inf, 2.25  , 2.25  ,\n",
       "           inf,    inf],\n",
       "       [1.    , 1.    , 1.    , 2.25  , 2.25  ,    inf, 2.25  , 2.25  ,\n",
       "           inf, 2.25  ],\n",
       "       [1.    , 1.    , 1.    , 2.25  , 2.25  , 2.25  ,    inf, 2.25  ,\n",
       "        2.25  , 2.25  ],\n",
       "       [1.2   , 1.32  , 1.32  , 2.25  , 2.25  , 2.25  ,    inf, 2.25  ,\n",
       "        2.25  , 2.25  ],\n",
       "       [2.28  , 2.4   , 1.32  , 2.47  , 2.47  , 1.32  ,    inf,    inf,\n",
       "           inf, 2.25  ],\n",
       "       [2.28  ,    inf, 1.32  ,    inf, 2.47  , 1.32  , 1.32  , 2.28  ,\n",
       "        2.28  , 1.32  ],\n",
       "       [2.28  ,    inf, 1.32  ,    inf, 1.32  , 2.47  , 1.32  , 1.32  ,\n",
       "        1.32  , 1.32  ],\n",
       "       [2.28  ,    inf, 1.32  ,    inf, 1.32  ,    inf,    inf,    inf,\n",
       "        1.32  , 1.32  ],\n",
       "       [   inf, 1.1025, 1.1025,    inf, 3.42  , 3.42  , 1.1025, 1.1025,\n",
       "        1.32  , 1.32  ],\n",
       "       [2.28  , 3.6   , 1.1025, 3.42  , 3.42  ,    inf, 1.    , 1.1025,\n",
       "        1.32  ,    inf]])"
      ]
     },
     "execution_count": 18,
     "metadata": {},
     "output_type": "execute_result"
    }
   ],
   "source": [
    "transition_matrix"
   ]
  },
  {
   "cell_type": "markdown",
   "metadata": {
    "id": "xsfOP81lF7sP"
   },
   "source": [
    "### 4.\tCalling the search algorithms - Print the optimal path sequence with costs\n",
    "(For bidirectional search in below sections first part can be used as per Hint provided. Under second section other combinations as per Hint or your choice of 2 algorithms can be called .As an analyst suggest suitable approximation in the comparitive analysis section)"
   ]
  },
  {
   "cell_type": "code",
   "execution_count": 19,
   "metadata": {
    "ExecuteTime": {
     "end_time": "2023-08-06T20:02:14.736294Z",
     "start_time": "2023-08-06T20:02:14.723693Z"
    },
    "collapsed": false
   },
   "outputs": [],
   "source": [
    "def get_traversed_path(path, goal):\n",
    "    g = make_key(goal)\n",
    "    traversed_keys = [g]\n",
    "\n",
    "    key = g\n",
    "    num_iter = 0\n",
    "    while (key != path[key][0] ):\n",
    "        temp = path[key][0]\n",
    "        traversed_keys.append(temp)\n",
    "        key = temp\n",
    "        num_iter +=1\n",
    "    traversed_path = [[int(k[0]), int(k[1])] for k in traversed_keys[::-1]]\n",
    "\n",
    "    return traversed_path"
   ]
  },
  {
   "cell_type": "code",
   "execution_count": 20,
   "metadata": {
    "ExecuteTime": {
     "end_time": "2023-08-06T20:02:14.944750500Z",
     "start_time": "2023-08-06T20:02:14.921756600Z"
    },
    "id": "Og5zI9thF7sP"
   },
   "outputs": [
    {
     "name": "stdout",
     "output_type": "stream",
     "text": [
      "inital states randomised with given k= 3  :  [[0, 2], [1, 0], [0, 0]]\n",
      "goal_state:  [9, 6]\n",
      "cost from start states:  [[0, 2], [1, 0], [0, 0]]  to goal state  [9, 6]  is:  17\n",
      "[[1, 0], [2, 1], [3, 2], [4, 2], [5, 2], [6, 2], [7, 2], [8, 2], [9, 3], [8, 4], [7, 4], [6, 4], [5, 5], [6, 6], [6, 7], [7, 8], [8, 7], [9, 6]]\n"
     ]
    }
   ],
   "source": [
    "#Invoke algorithm 1 (Should Print the solution, path, cost etc., (As mentioned in the problem))\n",
    "goal_flag, path, inital_state_list = local_beam_search(start_list, goal, k, transition_matrix, 1000)\n",
    "if goal_flag:\n",
    "    print('cost from start states: ', inital_state_list, ' to goal state ', goal,\n",
    "          ' is: ', path[make_key(goal)][1])\n",
    "    traversed_path = get_traversed_path(path, goal)\n",
    "\n",
    "    print(traversed_path)\n",
    "else:\n",
    "    print('goal not found')\n",
    "    raise AssertionError\n"
   ]
  },
  {
   "cell_type": "markdown",
   "metadata": {
    "id": "TOU3Rem6F7sQ"
   },
   "source": [
    "### 5.\tPrint the algorithm spacetime complexity"
   ]
  },
  {
   "cell_type": "code",
   "execution_count": 21,
   "metadata": {
    "ExecuteTime": {
     "end_time": "2023-08-06T20:02:15.309913600Z",
     "start_time": "2023-08-06T20:02:15.294227500Z"
    },
    "id": "HG6fWwiIF7sQ"
   },
   "outputs": [
    {
     "name": "stdout",
     "output_type": "stream",
     "text": [
      "Time complexity of local beam search: O(transition_matrix_edge^2 * (k * log k)) \n",
      "Space complexity of local beam search: O(transition_matrix_edge^2 + k) \n"
     ]
    }
   ],
   "source": [
    "#Code Block : Print the Time & Space complexity of algorithm 1\n",
    "print('Time complexity of local beam search: O(transition_matrix_edge^2 * (k * log k)) ')\n",
    "print('Space complexity of local beam search: O(transition_matrix_edge^2 + k) ')"
   ]
  },
  {
   "cell_type": "markdown",
   "metadata": {
    "id": "y2nXwAlsF7sQ"
   },
   "source": [
    "### 6.\tFor local search interpret the significance of the hyper parameters if any applicable"
   ]
  },
  {
   "cell_type": "markdown",
   "metadata": {
    "id": "si483-zoF7sQ"
   },
   "source": [
    "k is the hyperparameter, along with seed in this case\n",
    "\n",
    "1. k = 1 makes it hill climbing and k= inf makes it bfs, in general as k increases we can keep more nodes in memory and find better estimates locally\n",
    "2. Since we have 5 inital states and k=3, we randomly choose any one out of possible 5C3 combinations. Different set of inital states might give a different optimal route cost and path."
   ]
  },
  {
   "cell_type": "code",
   "execution_count": null,
   "metadata": {
    "collapsed": false
   },
   "outputs": [],
   "source": []
  }
 ],
 "metadata": {
  "colab": {
   "provenance": []
  },
  "kernelspec": {
   "display_name": "Python 3",
   "language": "python",
   "name": "python3"
  },
  "language_info": {
   "codemirror_mode": {
    "name": "ipython",
    "version": 3
   },
   "file_extension": ".py",
   "mimetype": "text/x-python",
   "name": "python",
   "nbconvert_exporter": "python",
   "pygments_lexer": "ipython3",
   "version": "3.7.6"
  }
 },
 "nbformat": 4,
 "nbformat_minor": 0
}
